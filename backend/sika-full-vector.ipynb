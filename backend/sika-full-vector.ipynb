{
 "cells": [
  {
   "cell_type": "code",
   "execution_count": 1,
   "id": "9080b39e",
   "metadata": {},
   "outputs": [],
   "source": [
    "import logging\n",
    "import sys\n",
    "\n",
    "logging.basicConfig(stream=sys.stdout, level=logging.INFO)\n",
    "logging.getLogger().addHandler(logging.StreamHandler(stream=sys.stdout))"
   ]
  },
  {
   "cell_type": "code",
   "execution_count": 2,
   "id": "285c81e8",
   "metadata": {},
   "outputs": [],
   "source": [
    "%load_ext dotenv\n",
    "%dotenv"
   ]
  },
  {
   "cell_type": "code",
   "execution_count": 3,
   "id": "8d0b2364-4806-4656-81e7-3f6e4b910b5b",
   "metadata": {},
   "outputs": [
    {
     "name": "stdout",
     "output_type": "stream",
     "text": [
      "INFO:numexpr.utils:Note: NumExpr detected 12 cores but \"NUMEXPR_MAX_THREADS\" not set, so enforcing safe limit of 8.\n",
      "Note: NumExpr detected 12 cores but \"NUMEXPR_MAX_THREADS\" not set, so enforcing safe limit of 8.\n",
      "INFO:numexpr.utils:NumExpr defaulting to 8 threads.\n",
      "NumExpr defaulting to 8 threads.\n"
     ]
    }
   ],
   "source": [
    "from llama_index import VectorStoreIndex, SimpleDirectoryReader"
   ]
  },
  {
   "cell_type": "code",
   "execution_count": null,
   "id": "1298bbb4-c99e-431e-93ef-eb32c0a2fc2a",
   "metadata": {
    "tags": []
   },
   "outputs": [],
   "source": [
    "documents = SimpleDirectoryReader(input_dir=\"data-full\", recursive=True).load_data()\n",
    "print(f\"Loaded {len(documents)} docs\")\n",
    "index = VectorStoreIndex.from_documents(documents)\n",
    "index.storage_context.persist()\n"
   ]
  },
  {
   "cell_type": "code",
   "execution_count": 4,
   "id": "68c9ebfe-b1b6-4f4e-9278-174346de8c90",
   "metadata": {
    "tags": []
   },
   "outputs": [
    {
     "name": "stdout",
     "output_type": "stream",
     "text": [
      "INFO:llama_index.indices.loading:Loading all indices.\n",
      "Loading all indices.\n"
     ]
    },
    {
     "data": {
      "text/plain": [
       "Response(response='SikaProof is a product offered by Sika Kimia Sdn. Bhd. It is mentioned in two different product data sheets, namely SikaProof-808 and SikaProofP-1200. The product data sheets provide information about the properties and specifications of these products. To learn more about SikaProof, it is recommended to refer to the most recent issue of the local Product Data Sheet for the specific product of interest.', source_nodes=[NodeWithScore(node=TextNode(id_='78006124-cee0-40fe-9eec-4d6e4d8ece98', embedding=None, metadata={'page_label': '3', 'file_name': 'SikaProof-808-en-MY-(07-2022)-3-1.pdf'}, excluded_embed_metadata_keys=[], excluded_llm_metadata_keys=[], relationships={<NodeRelationship.SOURCE: '1'>: RelatedNodeInfo(node_id='cb20c0b6-af04-44a2-b28e-7cffa680c299', node_type=None, metadata={'page_label': '3', 'file_name': 'SikaProof-808-en-MY-(07-2022)-3-1.pdf'}, hash='a2588869355580290e641c27b20645937bf4ce7d43acc9a1967e1a221aa109b2'), <NodeRelationship.PREVIOUS: '2'>: RelatedNodeInfo(node_id='c5f86543-810e-40d9-b7eb-0023d58f904b', node_type=None, metadata={'page_label': '3', 'file_name': 'SikaProof-808-en-MY-(07-2022)-3-1.pdf'}, hash='74a2d10fc3161a0d4ccf951c8dc7fc3606b9937eaad212a35cd7f7c5c09f3ff9')}, hash='3cd77c4c0537bfa3b449a29a9300ba127945d0b16a14fb274851601d9de227cb', text='Sika re-\\nserves the right to change the properties of its \\nproducts. The proprietary rights of third parties must \\nbe observed. All orders are accepted subject to our \\ncurrent terms of sale and delivery. Users must always \\nrefer to the most recent issue of the local Product \\nData Sheet for the product concerned, copies of which \\nwill be supplied on request.\\nSika Kimia Sdn. Bhd.\\nLot 689, Nilai Industrial Estate,\\n71800 Nilai, Negeri Sembilan D.K.\\nMalaysia\\nPhone: +606-7991762\\ne-mail: info@my.sika.com\\nWebsite: www.sika.com.my\\nSikaProof-808-en-MY-(07-2022)-3-1.pdf\\nProduct Data Sheet\\nSikaProof®-808\\nJuly 2022, Version 03.01\\n020720301000000020\\n3 / \\n3', start_char_idx=None, end_char_idx=None, text_template='{metadata_str}\\n\\n{content}', metadata_template='{key}: {value}', metadata_seperator='\\n'), score=0.851004429385417), NodeWithScore(node=TextNode(id_='c0c0b3c3-81dc-4c89-b0ec-c3a05b8064a0', embedding=None, metadata={'page_label': '3', 'file_name': 'SikaProofP-1200-en-MY-(03-2020)-3-1.pdf'}, excluded_embed_metadata_keys=[], excluded_llm_metadata_keys=[], relationships={<NodeRelationship.SOURCE: '1'>: RelatedNodeInfo(node_id='43fdfd00-8e36-443e-88c9-e85e68ed1b62', node_type=None, metadata={'page_label': '3', 'file_name': 'SikaProofP-1200-en-MY-(03-2020)-3-1.pdf'}, hash='4ba962270bad80dd12c72da1ffb113028d6fad73f128c270e1b96611c1c85fc3'), <NodeRelationship.PREVIOUS: '2'>: RelatedNodeInfo(node_id='776823f8-75f9-4609-8db3-34904f72e00c', node_type=None, metadata={'page_label': '3', 'file_name': 'SikaProofP-1200-en-MY-(03-2020)-3-1.pdf'}, hash='66cc3297f74ab3d14e550f169f89037b79ea40bcc079fd3b82bc377f4cec3e3e')}, hash='66ad2da862d13733fe75b7cde2ade9e4af0a587ce9dc11e1e44a98d4cfede49e', text='Sika Kimia Sdn. Bhd.\\nLot 689, Nilai Industrial Estate, 71800 \\nNilai\\nNegeri Sembilan D.K., Malaysia\\nPhone: +606-7991762\\nFax: +606-7991980\\ne-mail: info@my.sika.com\\nSikaProofP-1200-en-MY-(03-2020)-3-1.pdf\\nProduct Data Sheet\\nSikaProof® P-1200\\nMarch 2020, Version 03.01\\n020720301000000014\\n3 / \\n3', start_char_idx=None, end_char_idx=None, text_template='{metadata_str}\\n\\n{content}', metadata_template='{key}: {value}', metadata_seperator='\\n'), score=0.8480278365028597)], metadata={'78006124-cee0-40fe-9eec-4d6e4d8ece98': {'page_label': '3', 'file_name': 'SikaProof-808-en-MY-(07-2022)-3-1.pdf'}, 'c0c0b3c3-81dc-4c89-b0ec-c3a05b8064a0': {'page_label': '3', 'file_name': 'SikaProofP-1200-en-MY-(03-2020)-3-1.pdf'}})"
      ]
     },
     "execution_count": 4,
     "metadata": {},
     "output_type": "execute_result"
    }
   ],
   "source": [
    "from llama_index import StorageContext, load_index_from_storage\n",
    "\n",
    "# GPT doesn't find the corresponding evidence in the leaf node, but still gives the correct answer\n",
    "# set Logging to DEBUG for more detailed outputs\n",
    "storage_context = StorageContext.from_defaults(persist_dir=\"./storage-vector\")\n",
    "# load index\n",
    "index = load_index_from_storage(storage_context)\n",
    "\n",
    "\n",
    "query_engine = index.as_query_engine()\n",
    "query_engine.query(\n",
    "    \"Tell me more about SikaProof\"\n",
    ")"
   ]
  },
  {
   "cell_type": "code",
   "execution_count": null,
   "id": "0dd98fb8",
   "metadata": {},
   "outputs": [],
   "source": [
    "query_engine = index.as_query_engine()\n",
    "query_engine.query(\n",
    "    \"What documents exists about SikaWall\"\n",
    ")"
   ]
  }
 ],
 "metadata": {
  "kernelspec": {
   "display_name": "Python 3 (ipykernel)",
   "language": "python",
   "name": "python3"
  },
  "language_info": {
   "codemirror_mode": {
    "name": "ipython",
    "version": 3
   },
   "file_extension": ".py",
   "mimetype": "text/x-python",
   "name": "python",
   "nbconvert_exporter": "python",
   "pygments_lexer": "ipython3",
   "version": "3.10.10"
  }
 },
 "nbformat": 4,
 "nbformat_minor": 5
}
