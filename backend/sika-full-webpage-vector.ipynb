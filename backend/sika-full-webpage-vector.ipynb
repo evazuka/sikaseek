{
 "cells": [
  {
   "cell_type": "code",
   "execution_count": 1,
   "id": "9080b39e",
   "metadata": {},
   "outputs": [],
   "source": [
    "import logging\n",
    "import sys\n",
    "\n",
    "logging.basicConfig(stream=sys.stdout, level=logging.INFO)\n",
    "logging.getLogger().addHandler(logging.StreamHandler(stream=sys.stdout))"
   ]
  },
  {
   "cell_type": "code",
   "execution_count": 2,
   "id": "285c81e8",
   "metadata": {},
   "outputs": [],
   "source": [
    "%load_ext dotenv\n",
    "%dotenv"
   ]
  },
  {
   "cell_type": "code",
   "execution_count": 3,
   "id": "8d0b2364-4806-4656-81e7-3f6e4b910b5b",
   "metadata": {},
   "outputs": [
    {
     "name": "stdout",
     "output_type": "stream",
     "text": [
      "INFO:numexpr.utils:Note: NumExpr detected 12 cores but \"NUMEXPR_MAX_THREADS\" not set, so enforcing safe limit of 8.\n",
      "Note: NumExpr detected 12 cores but \"NUMEXPR_MAX_THREADS\" not set, so enforcing safe limit of 8.\n",
      "INFO:numexpr.utils:NumExpr defaulting to 8 threads.\n",
      "NumExpr defaulting to 8 threads.\n"
     ]
    }
   ],
   "source": [
    "from llama_index import VectorStoreIndex, SimpleDirectoryReader, SimpleWebPageReader, SummaryIndex\n",
    "from llama_index.indices.composability import ComposableGraph"
   ]
  },
  {
   "cell_type": "code",
   "execution_count": null,
   "id": "a4cd86af",
   "metadata": {},
   "outputs": [],
   "source": [
    "documentsDir = SimpleDirectoryReader(input_dir=\"data-full\", recursive=True).load_data()\n",
    "print(f\"Loaded {len(documentsDir)} docs\")\n",
    "indexDir = VectorStoreIndex.from_documents(documentsDir)\n",
    "indexDir.storage_context.persist(persist_dir=\"storage-dir\")"
   ]
  },
  {
   "cell_type": "code",
   "execution_count": 5,
   "id": "1298bbb4-c99e-431e-93ef-eb32c0a2fc2a",
   "metadata": {
    "tags": []
   },
   "outputs": [
    {
     "name": "stdout",
     "output_type": "stream",
     "text": [
      "Loaded 2 docs\n"
     ]
    }
   ],
   "source": [
    "documentsWeb = SimpleWebPageReader(html_to_text=True).load_data(\n",
    "    [\n",
    "      \"https://www.sika.com/en/about-us/sustainability/sika-sustainability-strategy.html\",\n",
    "      \"https://www.sika.com/en/innovation/research-development/technologies.html\",\n",
    "      \"https://www.sika.com/en/about-us/organization/target-markets.html\",\n",
    "      \"https://www.sika.com/en/investors/shares/key-data-on-sika-shares.html\",\n",
    "      \"https://www.sika.com/en/solutions-for-projects/airports.html\",\n",
    "      \"https://www.sika.com/en/knowledge-hub.list.html/knowledge-hub/can-concrete-be-recycled.html\"\n",
    "    ]\n",
    ")\n",
    "print(f\"Loaded {len(documentsWeb)} docs\")\n",
    "indexWeb = VectorStoreIndex.from_documents(documentsWeb)\n",
    "indexWeb.storage_context.persist(persist_dir=\"storage-web\")"
   ]
  },
  {
   "cell_type": "code",
   "execution_count": 8,
   "id": "68c9ebfe-b1b6-4f4e-9278-174346de8c90",
   "metadata": {
    "tags": []
   },
   "outputs": [
    {
     "name": "stdout",
     "output_type": "stream",
     "text": [
      "INFO:llama_index.indices.loading:Loading all indices.\n",
      "Loading all indices.\n",
      "INFO:llama_index.indices.loading:Loading all indices.\n",
      "Loading all indices.\n"
     ]
    },
    {
     "data": {
      "text/plain": [
       "Response(response=\"Sika sustainability encompasses three dimensions: environmental, social, and economic. In terms of environmental sustainability, Sika focuses on addressing climate change, reducing emissions, conserving energy, managing water resources, minimizing waste, promoting circular economy, and protecting biodiversity and nature. In the social dimension, Sika is committed to maintaining high working standards and respecting human rights. Sika's sustainability strategy aligns with the United Nations Sustainable Development Goals (SDGs). Additionally, Sika engages in sustainability reporting, partnerships, and collaborations, and follows ESG (Environmental, Social, and Governance) policies and guidelines.\", source_nodes=[NodeWithScore(node=TextNode(id_='550d388c-7d5d-42bc-85aa-fc97db1235c3', embedding=None, metadata={}, excluded_embed_metadata_keys=[], excluded_llm_metadata_keys=[], relationships={}, hash='8bea0484d126a3058e260756254cc35bd204e1238563d4ebc2661862e6ec5170', text=\"Sika is a specialty chemicals company that is committed to sustainability. They prioritize the development and production of systems and products that contribute to sustainable construction and transportation. Sika's product lines include concrete admixtures, mortars, sealants, adhesives, structural strengthening systems, industrial flooring, and roofing and waterproofing systems. By offering these sustainable solutions, Sika aims to support the building sector and the motor vehicle industry in reducing their environmental impact and promoting long-term sustainability.\", start_char_idx=None, end_char_idx=None, text_template='{metadata_str}\\n\\n{content}', metadata_template='{key}: {value}', metadata_seperator='\\n'), score=None), NodeWithScore(node=TextNode(id_='b72895c2-8f96-4708-a7cd-2486fcaabd30', embedding=None, metadata={}, excluded_embed_metadata_keys=[], excluded_llm_metadata_keys=[], relationships={}, hash='fce79fe66c231ab95a2c0a58a643eb107bed6fb193991781ca9768093f9e24fd', text=\"Sika sustainability focuses on three dimensions: environmental, social, and economic. In terms of environmental sustainability, Sika aims to address climate change, reduce emissions, conserve energy, manage water resources, minimize waste, promote circular economy, and protect biodiversity and nature. In the social dimension, Sika is committed to maintaining high working standards and respecting human rights. Additionally, Sika's sustainability strategy aligns with the United Nations Sustainable Development Goals (SDGs). Sika also engages in sustainability reporting, partnerships, and collaborations, and follows ESG (Environmental, Social, and Governance) policies and guidelines.\", start_char_idx=None, end_char_idx=None, text_template='{metadata_str}\\n\\n{content}', metadata_template='{key}: {value}', metadata_seperator='\\n'), score=None), NodeWithScore(node=TextNode(id_='1cb0810f-9db2-4d7f-ac05-a6d0811fed83', embedding=None, metadata={'page_label': '24', 'file_name': 'Sika-Solutions-for-Potable-Water-en_MY.pdf'}, excluded_embed_metadata_keys=[], excluded_llm_metadata_keys=[], relationships={<NodeRelationship.SOURCE: '1'>: RelatedNodeInfo(node_id='dbabcdce-148a-4558-b408-e957c1f87e73', node_type=None, metadata={'page_label': '24', 'file_name': 'Sika-Solutions-for-Potable-Water-en_MY.pdf'}, hash='59dd12f351b14c041bf59b00e40fb6fae22bd9d1d0decea6e47ee96d0dd4fa7a')}, hash='59dd12f351b14c041bf59b00e40fb6fae22bd9d1d0decea6e47ee96d0dd4fa7a', text='GLOBAL BUT LOCAL PARTNERSHIP\\nSIKA KIMIA SDN BHD\\nNo. 9, Jalan Timur,\\n46000 Petaling Jaya, \\nSelangor DE, MalaysiaContact\\nPhone  +603 7957 0111\\nFax  +603 7956 7291\\nwww.sika.com.my\\nOur most current General Sales Conditions shall apply. Please consult \\nthe most current local Product Data Sheet prior to any use.WE ARE SIKA\\nSika is a specialty chemicals company with a leading position in the \\n development and production of systems and products for bonding,  \\nsealing, damping, reinforcing and protecting in the building sector and \\nthe motor vehicle industry. Sika’s product lines feature concrete admix -\\ntures, mortars, sealants and adhesives, structural strengthening sys -\\ntems, industrial flooring as well as roofing and waterproofing systems.\\n© SIKA KIMIA SDN BHD / wA terproof INg', start_char_idx=None, end_char_idx=None, text_template='{metadata_str}\\n\\n{content}', metadata_template='{key}: {value}', metadata_seperator='\\n'), score=0.8370593096660064), NodeWithScore(node=TextNode(id_='e1d4887c-471e-4005-ab07-cbcfaaa5abae', embedding=None, metadata={'page_label': '32', 'file_name': 'Sika-Solutions-for-Concrete-Basement-en_MY.pdf'}, excluded_embed_metadata_keys=[], excluded_llm_metadata_keys=[], relationships={<NodeRelationship.SOURCE: '1'>: RelatedNodeInfo(node_id='c55bd7fa-8b87-4828-901c-46b911d9b131', node_type=None, metadata={'page_label': '32', 'file_name': 'Sika-Solutions-for-Concrete-Basement-en_MY.pdf'}, hash='238b4c12a4cf1ff97838cce9a71811b83ff4ea770d4a4bf44c1c00af044aa800')}, hash='238b4c12a4cf1ff97838cce9a71811b83ff4ea770d4a4bf44c1c00af044aa800', text=\"GLOBAL BUT LOCAL PARTNERSHIP\\nOur most current General Sales Conditions shall apply.  \\nPlease consult the Data Sheet prior to any use and processing.WE ARE SIKA\\nSika is a specialty chemicals company with a leading position in the \\ndevelopment and production of systems and products for bonding, \\nsealing, damping, reinforcing and protecting in the building sector \\nand the motor vehicle industry. Sika's product lines feature concrete \\nadmixtures, mortars, sealants and adhesives, structural strengthening \\nsystems, flooring as well as roofing and waterproofing systems.\\n© SIKA KIMIA SDN BHD / WATERPROOFING / CMDL / CONCRETE BASEMENTS / 02.2018\\nSIKA KIMIA SDN BHD\\nNo. 9, Jalan Timur,\\n46000 Petaling Jaya,\\nSelangor DE, MalaysiaContact\\nPhone  +603 7957 0111\\nFax  +603 7956 7291\\nwww.sika.com.my\", start_char_idx=None, end_char_idx=None, text_template='{metadata_str}\\n\\n{content}', metadata_template='{key}: {value}', metadata_seperator='\\n'), score=0.8284305999212114), NodeWithScore(node=TextNode(id_='23346271-a365-45eb-9336-26bd6c25d05d', embedding=None, metadata={}, excluded_embed_metadata_keys=[], excluded_llm_metadata_keys=[], relationships={<NodeRelationship.SOURCE: '1'>: RelatedNodeInfo(node_id='d12cedfb-1777-4b76-8096-bd43fd2dd986', node_type=None, metadata={}, hash='17e3e2b30f58236b4446b6eb9c081d42c39421e37d878e51aa2432e74141bba8'), <NodeRelationship.PREVIOUS: '2'>: RelatedNodeInfo(node_id='2b6b3bb4-c82b-4631-9d83-503390622e45', node_type=None, metadata={}, hash='74e85632d88eaa0fb44596d03e9579a68dc8e2be0202c5b1353e6ffeba3e7850'), <NodeRelationship.NEXT: '3'>: RelatedNodeInfo(node_id='23156aa7-2552-45dd-bfd2-6e99cc3f758a', node_type=None, metadata={}, hash='883fd8432bc26410a56b50a0c93b5297388f9783a10bbaa6109b646fa9ad9d0c')}, hash='5898654c94ce06ea8021b54896c33a85608c59c57f71986efa832649c9f9deda', text=\"sika.com/en/about-us/sustainability.html)\\n\\n    * [ News and Projects ](https://www.sika.com/en/about-us/sustainability/key-information.html)\\n    * [ Sustainability Strategy ](https://www.sika.com/en/about-us/sustainability/sika-sustainability-strategy.html)\\n    * [ UN SDGs ](https://www.sika.com/en/about-us/sustainability/sika-sustainability-strategy/un-sustainable-development-goals.html)\\n    * [ Sustainability Reporting ](https://www.sika.com/en/about-us/sustainability/sika-sustainability-strategy/sustainability-reporting.html)\\n    * [ Partnerships and Collaborations ](https://www.sika.com/en/about-us/sustainability/social-dimension/partnerships.html)\\n    * [ ESG Policies and Guidelines ](https://www.sika.com/en/about-us/sustainability/sika-sustainability-strategy/esg-policies-and-guidelines.html)\\n    * [ ESG Indices and Ratings ](https://www.sika.com/en/about-us/sustainability/sika-sustainability-strategy/esg-ratings.html)\\n    * [ ESG Key Indicators ](https://www.sika.com/en/about-us/sustainability/sika-sustainability-strategy/esg-key-indicators.html)\\n    * [ ESG Glossary ](https://www.sika.com/en/about-us/sustainability/sika-sustainability-strategy/esg-glossary.html)\\n    * [ Contact ](https://www.sika.com/en/about-us/sustainability/contact.html)\\n\\n[ Environmental ](https://www.sika.com/en/about-\\nus/sustainability/environmental-dimension.html)\\n\\n    * [ Environmental Sustainability ](https://www.sika.com/en/about-us/sustainability/environmental-dimension/environment-safety-and-sustainability.html)\\n    * [ Sika's Way to Net Zero ](https://www.sika.com/en/about-us/sustainability/sika-sustainability-strategy/way-to-net-zero.html)\\n    * [ Climate Change ](https://www.sika.com/en/about-us/sustainability/sika-sustainability-strategy/addressing-climate-change.html)\\n    * [ Emissions ](https://www.sika.com/en/about-us/sustainability/environmental-dimension/co2-emissions.html)\\n    * [ Energy ](https://www.sika.com/en/about-us/sustainability/environmental-dimension/energy.html)\\n    * [ Water ](https://www.sika.com/en/about-us/sustainability/environmental-dimension/water.html)\\n    * [ Waste ](https://www.sika.com/en/about-us/sustainability/environmental-dimension/waste.html)\\n    * [ Circular Economy ](https://www.sika.com/en/about-us/sustainability/environmental-dimension/materials-and-circular-economy.html)\\n    * [ Biodiversity and Nature ](https://www.sika.com/en/about-us/sustainability/environmental-dimension/biodiversity-and-nature.html)\\n\\n[ Social ](https://www.sika.com/en/about-us/sustainability/social-\\ndimension.html)\\n\\n    * [ Working Standards ](https://www.sika.com/en/about-us/sustainability/social-dimension/working-conditions.html)\\n    * [ Human Rights ](https://www.sika.com/en/about-us/sustainability/social-dimension/human-rights.\", start_char_idx=None, end_char_idx=None, text_template='{metadata_str}\\n\\n{content}', metadata_template='{key}: {value}', metadata_seperator='\\n'), score=0.8742325107962998), NodeWithScore(node=TextNode(id_='48599181-f928-470d-a80d-a2fe8a5ac2b9', embedding=None, metadata={}, excluded_embed_metadata_keys=[], excluded_llm_metadata_keys=[], relationships={<NodeRelationship.SOURCE: '1'>: RelatedNodeInfo(node_id='98b6bd3d-109d-48f7-9772-f0bf47ab94ee', node_type=None, metadata={}, hash='6bd2ef512c01b5d08640fc174669eb9937a17afdf74215bedc713de928eec303'), <NodeRelationship.PREVIOUS: '2'>: RelatedNodeInfo(node_id='ae13918b-8175-42f5-b37f-00eaf8533f78', node_type=None, metadata={}, hash='74e85632d88eaa0fb44596d03e9579a68dc8e2be0202c5b1353e6ffeba3e7850'), <NodeRelationship.NEXT: '3'>: RelatedNodeInfo(node_id='24bb8f50-4be8-4344-bbea-617a40ccdb8f', node_type=None, metadata={}, hash='883fd8432bc26410a56b50a0c93b5297388f9783a10bbaa6109b646fa9ad9d0c')}, hash='5898654c94ce06ea8021b54896c33a85608c59c57f71986efa832649c9f9deda', text=\"sika.com/en/about-us/sustainability.html)\\n\\n    * [ News and Projects ](https://www.sika.com/en/about-us/sustainability/key-information.html)\\n    * [ Sustainability Strategy ](https://www.sika.com/en/about-us/sustainability/sika-sustainability-strategy.html)\\n    * [ UN SDGs ](https://www.sika.com/en/about-us/sustainability/sika-sustainability-strategy/un-sustainable-development-goals.html)\\n    * [ Sustainability Reporting ](https://www.sika.com/en/about-us/sustainability/sika-sustainability-strategy/sustainability-reporting.html)\\n    * [ Partnerships and Collaborations ](https://www.sika.com/en/about-us/sustainability/social-dimension/partnerships.html)\\n    * [ ESG Policies and Guidelines ](https://www.sika.com/en/about-us/sustainability/sika-sustainability-strategy/esg-policies-and-guidelines.html)\\n    * [ ESG Indices and Ratings ](https://www.sika.com/en/about-us/sustainability/sika-sustainability-strategy/esg-ratings.html)\\n    * [ ESG Key Indicators ](https://www.sika.com/en/about-us/sustainability/sika-sustainability-strategy/esg-key-indicators.html)\\n    * [ ESG Glossary ](https://www.sika.com/en/about-us/sustainability/sika-sustainability-strategy/esg-glossary.html)\\n    * [ Contact ](https://www.sika.com/en/about-us/sustainability/contact.html)\\n\\n[ Environmental ](https://www.sika.com/en/about-\\nus/sustainability/environmental-dimension.html)\\n\\n    * [ Environmental Sustainability ](https://www.sika.com/en/about-us/sustainability/environmental-dimension/environment-safety-and-sustainability.html)\\n    * [ Sika's Way to Net Zero ](https://www.sika.com/en/about-us/sustainability/sika-sustainability-strategy/way-to-net-zero.html)\\n    * [ Climate Change ](https://www.sika.com/en/about-us/sustainability/sika-sustainability-strategy/addressing-climate-change.html)\\n    * [ Emissions ](https://www.sika.com/en/about-us/sustainability/environmental-dimension/co2-emissions.html)\\n    * [ Energy ](https://www.sika.com/en/about-us/sustainability/environmental-dimension/energy.html)\\n    * [ Water ](https://www.sika.com/en/about-us/sustainability/environmental-dimension/water.html)\\n    * [ Waste ](https://www.sika.com/en/about-us/sustainability/environmental-dimension/waste.html)\\n    * [ Circular Economy ](https://www.sika.com/en/about-us/sustainability/environmental-dimension/materials-and-circular-economy.html)\\n    * [ Biodiversity and Nature ](https://www.sika.com/en/about-us/sustainability/environmental-dimension/biodiversity-and-nature.html)\\n\\n[ Social ](https://www.sika.com/en/about-us/sustainability/social-\\ndimension.html)\\n\\n    * [ Working Standards ](https://www.sika.com/en/about-us/sustainability/social-dimension/working-conditions.html)\\n    * [ Human Rights ](https://www.sika.com/en/about-us/sustainability/social-dimension/human-rights.\", start_char_idx=None, end_char_idx=None, text_template='{metadata_str}\\n\\n{content}', metadata_template='{key}: {value}', metadata_seperator='\\n'), score=0.8742325107962998)], metadata={'550d388c-7d5d-42bc-85aa-fc97db1235c3': {}, 'b72895c2-8f96-4708-a7cd-2486fcaabd30': {}, '1cb0810f-9db2-4d7f-ac05-a6d0811fed83': {'page_label': '24', 'file_name': 'Sika-Solutions-for-Potable-Water-en_MY.pdf'}, 'e1d4887c-471e-4005-ab07-cbcfaaa5abae': {'page_label': '32', 'file_name': 'Sika-Solutions-for-Concrete-Basement-en_MY.pdf'}, '23346271-a365-45eb-9336-26bd6c25d05d': {}, '48599181-f928-470d-a80d-a2fe8a5ac2b9': {}})"
      ]
     },
     "execution_count": 8,
     "metadata": {},
     "output_type": "execute_result"
    }
   ],
   "source": [
    "from llama_index import StorageContext, load_index_from_storage\n",
    "\n",
    "# GPT doesn't find the corresponding evidence in the leaf node, but still gives the correct answer\n",
    "# set Logging to DEBUG for more detailed outputs\n",
    "storage_context_dir = StorageContext.from_defaults(persist_dir=\"./storage-dir\")\n",
    "indexDir = load_index_from_storage(storage_context_dir)\n",
    "\n",
    "storage_context_web = StorageContext.from_defaults(persist_dir=\"./storage-web\")\n",
    "indexWeb = load_index_from_storage(storage_context_web)\n",
    "\n",
    "graph = ComposableGraph.from_indices(SummaryIndex, [indexDir, indexWeb], index_summaries=[\"summary1\", \"summary2\"])\n",
    "\n",
    "query_engine = graph.as_query_engine()\n",
    "query_engine.query(\n",
    "    \"Tell me more about Sika sustainability\"\n",
    ")"
   ]
  },
  {
   "cell_type": "code",
   "execution_count": null,
   "id": "0dd98fb8",
   "metadata": {},
   "outputs": [],
   "source": [
    "query_engine = index.as_query_engine()\n",
    "query_engine.query(\n",
    "    \"What documents exists about SikaWall\"\n",
    ")"
   ]
  }
 ],
 "metadata": {
  "kernelspec": {
   "display_name": "Python 3 (ipykernel)",
   "language": "python",
   "name": "python3"
  },
  "language_info": {
   "codemirror_mode": {
    "name": "ipython",
    "version": 3
   },
   "file_extension": ".py",
   "mimetype": "text/x-python",
   "name": "python",
   "nbconvert_exporter": "python",
   "pygments_lexer": "ipython3",
   "version": "3.10.10"
  }
 },
 "nbformat": 4,
 "nbformat_minor": 5
}
